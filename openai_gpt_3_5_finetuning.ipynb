{
  "nbformat": 4,
  "nbformat_minor": 0,
  "metadata": {
    "colab": {
      "provenance": []
    },
    "kernelspec": {
      "name": "python3",
      "display_name": "Python 3"
    },
    "language_info": {
      "name": "python"
    }
  },
  "cells": [
    {
      "cell_type": "code",
      "execution_count": null,
      "metadata": {
        "id": "rLRZUCml0oDW"
      },
      "outputs": [],
      "source": [
        "# openai 라이브러리 설치\n",
        "!pip install openai -q"
      ]
    },
    {
      "cell_type": "code",
      "source": [
        "import openai\n",
        "import json"
      ],
      "metadata": {
        "id": "LlbtSKaR06iO"
      },
      "execution_count": null,
      "outputs": []
    },
    {
      "cell_type": "code",
      "source": [
        "openai.api_key = \"sk-xxxxxxxxxxxxxx\""
      ],
      "metadata": {
        "id": "tSt3MufD094b"
      },
      "execution_count": null,
      "outputs": []
    },
    {
      "cell_type": "code",
      "source": [
        "# ChatGPT API를 통해 춘식이가 누구야? 질문 하기\n",
        "response = openai.ChatCompletion.create(\n",
        "    model = \"gpt-3.5-turbo\",\n",
        "    messages = [\n",
        "        {\"role\": \"system\", \"content\": \"Kakao Friends Assistant Bot\"},\n",
        "        {\"role\": \"user\", \"content\": \"춘식이가 누구야?\"}\n",
        "    ]\n",
        ")"
      ],
      "metadata": {
        "id": "GG3F0He71M3R"
      },
      "execution_count": null,
      "outputs": []
    },
    {
      "cell_type": "code",
      "source": [
        "# 춘식이에 대한 내용을 ChatGPT는 모르므로 환각(hallucination) 발생\n",
        "print(response[\"choices\"][0][\"message\"][\"content\"])"
      ],
      "metadata": {
        "colab": {
          "base_uri": "https://localhost:8080/"
        },
        "id": "1KVTs6vG18bn",
        "outputId": "aa10f561-3338-4ecb-a4b9-dd3a911e59f8"
      },
      "execution_count": null,
      "outputs": [
        {
          "output_type": "stream",
          "name": "stdout",
          "text": [
            "춘식이는 카카오 프렌즈 캐릭터 중 하나로, 파랑색 토끼 모습을 하고 있습니다. 춘식이는 친구들과 함께 놀고 먹는 것을 좋아하며, 언제나 밝고 활발한 성격을 가지고 있습니다.\n"
          ]
        }
      ]
    },
    {
      "cell_type": "markdown",
      "source": [
        "## 파인 튜닝 시작\n",
        "- 파인 튜닝 할 데이터 셋을 만듭니다.\n",
        "- 여기서는 춘식이에 대한 나무위키 내용을 토대로 ChatGPT를 이용해 데이터를 생성했습니다.\n",
        "데이터 샘플 보기 : https://chat.openai.com/share/c3849864-fb25-421b-b11f-357c7a7ca6f4"
      ],
      "metadata": {
        "id": "WUthqpOEDzwx"
      }
    },
    {
      "cell_type": "code",
      "source": [
        "# 생성된 데이터셋 파일을 openai 에 등록합니다.\n",
        "openai.File.create(\n",
        "  file=open(\"mydata.jsonl\", \"rb\"),\n",
        "  purpose='fine-tune'\n",
        ")"
      ],
      "metadata": {
        "id": "8yyYrdub2JgF"
      },
      "execution_count": null,
      "outputs": []
    },
    {
      "cell_type": "code",
      "source": [
        "# 파일을 등록하여 받은 파일 ID로 파인 튜닝 Job 을 생성합니다.\n",
        "openai.FineTuningJob.create(training_file=\"file-xxxxxxxxxxxxxx\", model=\"gpt-3.5-turbo\")"
      ],
      "metadata": {
        "id": "928Kr_k76Tav"
      },
      "execution_count": null,
      "outputs": []
    },
    {
      "cell_type": "code",
      "source": [
        "# 전체 작업 확인하기 (최대 10개)\n",
        "openai.FineTuningJob.list(limit=10)"
      ],
      "metadata": {
        "id": "P3GpBmYH96HV"
      },
      "execution_count": null,
      "outputs": []
    },
    {
      "cell_type": "code",
      "source": [
        "# 개별 작업 진행상황 확인하기\n",
        "openai.FineTuningJob.retrieve(\"ftjob-xxxxxxxxxxxxxx\")"
      ],
      "metadata": {
        "id": "DIUa97fx-cW8"
      },
      "execution_count": null,
      "outputs": []
    },
    {
      "cell_type": "code",
      "source": [
        "# 파인 튜닝 된 모델로 질문 하기\n",
        "response2 = openai.ChatCompletion.create(\n",
        "    model = \"ft:gpt-3.5-turbo-0613:xxxxxxxxxxxxxx::xxxxxxxxxxxxxx\",\n",
        "    messages = [\n",
        "        {\"role\": \"system\", \"content\": \"Kakao Friends Assistant Bot.\"},\n",
        "        {\"role\": \"user\", \"content\": \"Who is Chunshik in Kakao Friends?\"}\n",
        "    ]\n",
        ")"
      ],
      "metadata": {
        "id": "VJ6EuvsH_9CN"
      },
      "execution_count": null,
      "outputs": []
    },
    {
      "cell_type": "code",
      "source": [
        "print(response2[\"choices\"][0][\"message\"][\"content\"])"
      ],
      "metadata": {
        "colab": {
          "base_uri": "https://localhost:8080/"
        },
        "id": "AEBIOy1A__pI",
        "outputId": "bddc31f3-be54-4900-8f0d-457632e28832"
      },
      "execution_count": null,
      "outputs": [
        {
          "output_type": "stream",
          "name": "stdout",
          "text": [
            "Chunshik is a character in Kakao Friends that was raised by Ryan after being rescued from a cardboard box, and is now treated as a pet.\n"
          ]
        }
      ]
    }
  ]
}